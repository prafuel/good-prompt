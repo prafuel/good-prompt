{
 "cells": [
  {
   "cell_type": "code",
   "execution_count": null,
   "metadata": {},
   "outputs": [],
   "source": [
    "import google.generativeai as genai"
   ]
  },
  {
   "cell_type": "code",
   "execution_count": null,
   "metadata": {},
   "outputs": [],
   "source": [
    "from dotenv import load_dotenv\n",
    "load_dotenv()"
   ]
  },
  {
   "cell_type": "code",
   "execution_count": null,
   "metadata": {},
   "outputs": [],
   "source": [
    "import os\n",
    "GOOGLE_GEMINI_TOKEN = os.environ['GOOGLE_GEMINI_TOKEN']"
   ]
  },
  {
   "cell_type": "code",
   "execution_count": null,
   "metadata": {},
   "outputs": [],
   "source": [
    "genai.configure(api_key=os.environ['GOOGLE_GEMINI_TOKEN'])"
   ]
  },
  {
   "cell_type": "code",
   "execution_count": null,
   "metadata": {},
   "outputs": [],
   "source": [
    "for m in genai.list_models():\n",
    "    if \"generateContent\" in m.supported_generation_methods:\n",
    "        print(m.name)"
   ]
  },
  {
   "cell_type": "code",
   "execution_count": null,
   "metadata": {},
   "outputs": [],
   "source": [
    "model = genai.GenerativeModel('gemini-pro') "
   ]
  },
  {
   "cell_type": "code",
   "execution_count": null,
   "metadata": {},
   "outputs": [],
   "source": [
    "model"
   ]
  },
  {
   "cell_type": "code",
   "execution_count": null,
   "metadata": {},
   "outputs": [],
   "source": [
    "response = model.generate_content('''i want you to act like developer who is professional at its work, your task is to make it Easy to Understand \n",
    "    and output must be in format of code, for output only your creativity level set to be Low , \n",
    "    dont print anything except output in provided format, query is write a hangman code in java''')"
   ]
  },
  {
   "cell_type": "code",
   "execution_count": 14,
   "metadata": {},
   "outputs": [],
   "source": [
    "from PyPDF2 import PdfReader\n",
    "\n",
    "pdf_file = PdfReader(\"../temp.pdf\")"
   ]
  },
  {
   "cell_type": "code",
   "execution_count": 16,
   "metadata": {},
   "outputs": [
    {
     "data": {
      "text/plain": [
       "'Insights Unveiled: Data Analysis and Sentiment \\nAnalysis for Business Advancement  \\n \\nZarina Mam , Bhushan Sonsale , Prafull Sonawane , Avadhoot Sutar , Tanmay Agarkar, Sumit Tambe  \\nDepartment of Artificial Intelligence & Data Science  \\nVishwakarma Institute of Technology   \\nPune, India  \\n {zarina.mam , bhushan .sonsale 21, prafull.sonawane 21, avadhoot.sutar 21, tanmay.agarkar21, sumit.tambe }@vit.edu\\n Abstract:  This research paper delves into comprehensive sales and \\nsentiment analysis using Mama Earth Company\\'s sales data for the \\nyears 2022 -23. The study encompasses various parameters such as \\nproduct categories, states, pack sizes, and products, along with \\nsenti ment analysis of customer reviews. Utilizing advanced tools like \\nPlotly for visualization and Streamlit for the interface, the analysis \\nprovides valuable insights into consumer behavior, market trends, \\nand opportunities for business optimization.  The paper also discusses \\nthe technical stack and methodology employed in the analysis, \\noffering a detailed overview of the research process. Through in -\\ndepth statistical analysis and visualization techniques, the paper \\npresents actionable insights and sol ution recommendations for \\nenhancing business performance and customer satisfaction.  \\n       Keywords — Sales analysis, Sentiment analysis, Mama Earth \\nCompany, Data visualization, Consumer behavior, Market trends, \\nBusiness optimization.  \\nI. INTRODUCTION  \\nEvery institution\\'s annual sales data is a large dataset with many \\nvariables to take into account while doing sales analysis. In \\naddition, we must exclude any blank spots from the dataset. \\nCustomer reviews make up a column in some datasets, and we \\nalso nee d to analyse  their sentiments. Because working at a high \\nlevel can lead to missing crucial details that could result in \\nbusiness losses, it\\'s critical to have a visualized data analysis \\nthat takes into account all relevant parameters and sub \\nparameters  in addition to customer review sentiment analysis. \\nFor this study, we have chosen the dataset from Mama Earth  \\nCompany\\'s sales data for the years 2022 -23. This dataset \\nincludes essential parameters such as product  name , price, \\nproduct category , review date , pack size , review count , states, \\nreview content , and several others.  Every Dataset analy sis needs \\nsome technical  tools lets understand them.  \\nFour parameters —Product Category, States, Pack Size, and \\nProducts —as well as an Overall Analysis component have been \\ntaken into consideration for the data analysis.  \\nUsers have the ability to choose any criteria, including price, \\nproduct category, and other s, under the section titled \"Overall \\nAnalysis.\" When price is chosen, for instance, a percentage \\ntable displaying the price -wise analysis in ascending order is \\nproduced. This table shows information such as which goods, \\npriced at 399, had the most sales (2 0.2395%). This method \\noffers a thorough understanding of how each aspect affects \\nsales.  Moreover, comprehension of information is improved by \\nthe use of visuals like pie charts and line graphs. Sales trends \\nand patterns are clearly displayed by these graphic tools.  \\nAdditionally, we perform Sentiment Review Comparison using \\nNatural Language Processing (NLP) to categorize reviews into \\npositive and negative sentiments. Graphs based on this \\nsentiment analysis are plotted to identify areas of improvement, \\nparticularly foc using on products with weaker performance.  We\\'ve incorporated some essential graphs and plots for \\nanalysis. However, for those unfamiliar with statistics, we\\'ve \\nintroduced a helpful feature. Upon clicking the \\'Get Insight\\' \\nbutton, users receive a summary of business analysis and \\nsuggested solutions.  Here\\'s how it functions: We present a data \\ntable, and your task is to analyse  it from a business standpoint. \\nWe focus on two key labels: \\'Feature1\\' (the aspect under \\nanalysis) and \\'Number of Sold Products at That Price\\' (our sales \\ndata). Your insights should follow this format:  \\n1. Insight Point 1: <Insight description>  \\n2. Insight Point 2: <Insight description>  \\nFor each insight, provide at least four analysis points and 2-3 \\nsolution suggestions. We utilize LLM (Large Language Model) \\nand the Google Gemini API to fetch insights directly from the \\ndata.  \\nWhen you get statistical Analysis of any Data , it becomes easier \\nto find out insights out of that data, future planning  becomes \\neasier and also you become cautious for fur thermore upcoming \\nrisks,  you stop investing your money on the products which are \\nnot sold as you want. The Interface of analysis is made in \\nStreamlit  Library of Python. For graphs and visualization \\npurposes Plotly library is used . Also,  for Sentiment Analysis,  \\nNatural language Processing & process of Tokenization  is in \\nuse.  \\nII. LITERATURE REVIEW  \\nThe paper reviews various word and sentence semantic \\nsimilarity techniques, proposing a model to compute accuracy \\nin Twitter datasets. Word techniques include corpus -based, \\nknowledge -based, and feature -based; sentence techniques \\ninclude string and set -based, word order -based, POS -based, and \\nsyntactic dependency -based. Atish\\'s measure outperforms \\nothers in real -world Twitter dataset evaluations.  [1]. The paper \\naddresses sentiment analysis for customer review classification \\nin the context of the expansive Wor ld Wide Web. It \\npreprocesses datasets, extracts meaningful adjectives as feature \\nvectors, and applies machine learning algorithms (Naive Bayes, \\nMaximum Entropy, SVM) alongside Semantic Orientation \\nbased WordNet. Performance evaluation is conducted in terms  \\nof recall, precision, and accuracy to enhance decision -making \\nprocesses  [2]. \\nThe paper investigates sentiment analysis on large Amazon Fine \\nFood review datasets, employing Apache Spark\\'s data \\nprocessing system. Methods like Linear SVC, Logistic \\nRegression, and Naïve Bayes, implemented through MLlib, \\nachieve over 80% accuracy. Linear S VC demonstrates superior \\nefficiency compared to Naïve Bayes and logistic regression  [3]. The research paper focuses on sentiment analysis across various \\ntopics using supervised machine learning, particularly \\nexamining opinions from humanity to terrorism. Preprocessing \\ninvolves converting unstructured reviews into structured \\nformat, numerical repr esentation, and sentiment scoring. \\nSupport Vector Machine and Naïve Bayes algorithms are \\ncompared, with SVM demonstrating superior accuracy in \\nclassifying airline reviews as positive or negative[4].  \\nThe paper investigates sentiment analysis on big data using the \\nNaïve Bayes algorithm and MapReduce framework. It \\naddresses the challenge of efficiently analyzing vast social \\nnetwork data. Preprocessing techniques and linguistic methods \\nare applied to Twitter  data, resulting in a 5% enhancement in \\nsentiment analysis accuracy, achieving 73% accuracy on the \\nStanford Sentiment dataset  [5]. The paper introduces a novel \\nsemantic analysis -driven model for extracting relevant data \\nfrom vast online repositories. It  comprises semantic similarity -\\nbased feature selection, data summarization, and a deep neural \\nnetwork classifier. The model addresses existing limitations by \\nenhancing relevancy accuracy through innovative techniques. \\nExperimental validation demonstrates i ts effectiveness in \\nretrieving relevant data from internet resources, bolstered by \\ntesting with recognized datasets  [6]. \\nThis paper reviews eight publicly available datasets for Twitter \\nsentiment analysis evaluation, highlighting a common \\nlimitation: the lack of distinct sentiment annotations for tweets \\nand their entities. To address this, the authors introduce STS -\\nGold, a new dataset  with individual annotations for tweets  and \\ntargets. Additionally, they conduct a comparative analysis of \\ndataset characteristics and their impact on sentiment \\nclassification performance  [7]. This paper introduces a novel \\nmethod for sentiment analysis on Twitter by incorporating \\nsemantic features alongside traditional features. Entities \\nextracted from tweets are associated with their semantic \\nconcepts, enhancing sentiment prediction. Results demonstrate \\nan average F harmonic accuracy increase of around 6.5% and \\n4.8% compared to baseline methods. Comparison with \\nsentiment -bearing topic analysis reveals semantic features\\' \\nsuperiority in various sentiment classification metrics  [8]. This \\npaper discusses the importance of sentiment analysis in \\ndecision -making processes, highlighting issues such as polarity \\nshift and data sparsity. Des pite the introduction of various \\nmethods, existing machine learning algorithms like Naïve \\nBayes and Support Vector Machine have limited effectiveness \\nin sentiment classification. The survey reviews different \\nsentiment analysis methodologies  and approaches, providing \\ninsights into their strengths and limitations, culminating in a \\ncomparative analysis of addressed issues and metrics used  [9]. \\nThis paper explores the integration of  semantic analysis into \\nIndustry 4.0 practices, aiming to automate fault detecti on and \\nresolution in machines. Leveraging case -based reasoning, the \\nsystem analyzes reports from operators to propose solutions \\nwhen faults occur. This approach significantly reduces the need  \\nfor manual intervention, streamlining the repair process and \\nimproving efficiency by providing operators with relevant \\nhistorical repair data  [10].  \\nThis survey provides valuable insights into the current state of \\nsentiment  analysis  research, paving the way for future \\ninvestigations to bridge existing gaps and propel the field \\ntoward even greater advancements . \\nIII. METHODOLOGY  \\nA. Project Working  In our research paper, we\\'ve organized the analysis into five \\ndistinct sections: Overall, Product Category, States, Pack  size, \\nand Products. When delving into the Overall Graph Analysis \\nsegment, users are prompted to select a singular parameter for \\nconducting the overarching analysis. For instance, they might \\nopt to scrutinize sales data based on price, product category, or \\nany other pertinent criterion. To illustrate these analyses \\neffectively, we employ visual aids such as graphs.\\n \\nFig 1. 1 \\nWhen a specific parameter is selected, users receive \\ncomprehensive analysis related to that parameter. For instance, \\nif \"States\" is selected, the system provides an in -depth analysis \\nfocusing on geographical states.  Sales  Count of Every State  \\n \\nFig 1.2  \\nFigure 1.2 visually demonstrates the process of selecting the \\n\"state\" parameter and subsequently obtaining a sales analysis \\nfor that state, presented in ascending order. For instance, the \\nanalysis may reveal that Maharashtra State boasts the highest \\nsales percentage, approximately 12.1142%. This insight \\nhighlights the value of analysis in simplifying complex data \\nexploration tasks, which may be challenging to accomplish \\ndirectly by searching through a CSV file . Furthermore, Figure \\n1.3 complements the analys is with additional visual aids, \\nincluding a pie chart and a line graph, enhancing the \\nunderstanding and interpretation of the data presented in the \\nanalysis.\\n \\nFig 1.3  \\nFrom Figure 1.3, it becomes apparent which states require \\nimprovement in sales, as seen with Himachal Pradesh having \\nthe lowest sales among all states. This insight aids in directing \\nefforts towards areas needing sales enhancement.  \\nIn addition to sales analysis, our research paper includes a \\nsection on state -wise sentiment analysis. This analysis employs \\na binary distribution of reviews, categorizing them into positive \\nand negative sentiments. Figure 1.4 visually represents this \\nsentiment analysis, providing a clear understanding of customer \\nsentiments.\\n \\nFig 1.4  \\n \\nFig 1.5  \\nAnalyzing the sentiments from Figures 1.4 and 1.5, we observe \\nthat Maharashtra has the highest percentage of positive reviews, \\nindicating a strong positive sentiment among consumers in that \\nstate, around 11.9%. This insight suggests that products are \\nwell-received and loved by consumers in Maharashtra.  \\nHowever, it\\'s notable that Maharashtra also has the highest \\npercentage of negative reviews. This finding underscores the \\nimportance of further improvement efforts in Maharashtra to \\naddress any issues highlighted by negative feedback. By \\nenhancing product o fferings or addressing customer concerns, \\nthere\\'s potential to boost sales further in this region.  This \\nanalysis emphasizes the significance of understanding customer \\nsentiments at a granular level, enabling targeted strategies for \\nimproving sales and over all customer satisfaction.\\n \\nFig 1.6  \\nWe\\'ve incorporated a feature were tapping on \"Get Insights\" \\nprovides access to all insights derived from the analysis. We \\nutilized LLM (Large Language Model) and the Google Gemini \\nAPI to extract information from graphs, ensuring a \\ncomprehensive understanding of the data . This analysis is \\navailable for each parameter under the Overall Analysis section, \\nincluding price, product category, states, and pack size. Users \\ncan access detailed insights and a brief description of each \\nparameter\\'s analysis by utilizing the \"Get Insigh ts\" feature, \\nfacilitating a deeper comprehension of the data and its \\nimplications.  \\nB. Technical Working  \\nThe technical stack behind this project includes the Plotly \\nlibrary for visualizing different types of graphs such as line plots, bar charts, and pie charts. Additionally, the Streamlit \\nlibrary is utilized for building the user interface, enabling \\ninteractive features like dropdowns, buttons, and data tables. \\nFor a comprehensive overview, refer to diagram 1. 6. \\n \\nFig 1.6  \\n• Library Setup  \\nThe research project begins by importing essential libraries \\nrequired for data handling, analysis, visualization, and \\ninterface development. These libraries include requests, \\nBeautifulSoup, pandas, numpy, plotly, matplotlib, \\nstreamlit, and google.generativ eai. \\n• Data Loading  \\nData files, namely clean_reviews.csv and \\nsentiment_reviews.csv, are loaded and preprocessed using \\nthe panda’s  library. This step ensures that the data is in a \\nsuitable format for analysis and visualization.  \\n• API Configuration  \\nThe Google Gemini API key, stored in an environment \\nvariable (os.environ[\\'GEMINI_API_TOKEN\\']), is \\nconfigured to access external data sources and enhance the \\nfunctionality of the research project.  \\n• Function Definitions  \\nCustom functions are defined to perform various tasks \\nwithin the project:  \\nI. get_insight: Generates insights based on data \\nanalysis and prompts using the Google Gemini \\nAPI. \\nII. product_img_url: Fetches image URLs of \\nproducts for display in the interface.  \\nIII. get_line, get_bar, get_pie : Functions to create line \\nplots, bar charts, and pie charts using the Plotly \\nlibrary for data visualization.  \\n• Streamlit Interface  \\nThe Streamlit  library is utilized to create an interactive user \\ninterface (UI) for the research project. The interface \\nincludes features such as sidebar radio selectors, \\ndropdowns, buttons, and data tables for user interaction.  \\n \\n3. RESULTS AND DISCUSSIONS  \\nPrice vs. Sales Volume :  \\nThe analysis reveals a clear inverse relationship between price \\nand sales volume, indicating that consumers are more inclined \\nto purchase products at lower prices. This aligns with \\nestablished economic principles, where demand typically \\ndecreases as price increases. Businesses should consider this \\nrelationship when setting prices to maximize revenue an d \\nmaintain competitiveness in the market.  \\n• Price Ranges :  \\nCertain price ranges, particularly between $1,000 and \\n$2,000, stand out for their higher sales volumes. This suggests \\nthat products within these price brackets are more attractive to \\nconsumers. Businesses can capitalize on this by focusing \\nmarketing efforts on products within these ranges or by \\nadjusting pricing strategies to align with these popular price \\npoints.  \\n• Outlier Prices :  \\nThe presence of outlier prices with significantly higher \\nsales volumes indicates that promotional activities or discounts \\nmay have a substantial impact on consumer behavior. \\nBusinesses should monitor these outliers closely and consider \\nreplicating successf ul strategies to drive sales and attract \\ncustomers.  \\n• Seasonal Trends:   \\nThe analysis hints at potential seasonal trends in sales \\nvolume, with certain prices being more popular during specific \\ntimes of the year. Understanding these seasonal variations can \\nhelp businesses adjust their marketing and pricing strategies to \\ncapitali ze on seasonal demand fluctuations.  \\n \\nBusiness Insights from Product Categories:   The analysis of product categories reveals valuable \\ninsights into consumer preferences and market trends. The \\nhigh demand for face products suggests a strong market \\nfor skincare and cosmetic products aimed at enhancing \\nfacial appearance. Additionally, the significant market \\nshare held by hair and skin products highlights the \\nimportance of personal grooming and self -care in \\nconsumer behavior.  \\n• Solution Recommendations for Product Categories:  \\nBased on the insights from the product categories \\nanalysis, businesses can develop targeted strategies to capitalize \\non consumer preferences and market trends. Investing in \\nmarketing efforts to target face product customers can help \\nmaximize revenue from this high -demand category. Expanding \\nhair and skin product offerings can also help businesses cater to \\ndiverse customer needs and preferences, potentially increasing \\nmarket share and profitability. Developing high -value \\ncombination products can further appeal to consumers looking \\nfor convenience and effectiveness in their skincare routines. \\nLastly, exploring the untapped niche market for pregnancy -\\nrelated products presents an opportunity for businesses to \\ndifferentia te themselves and capture a specialized segment of \\nthe market.  \\n \\nInsights from Regional Sales Analysis:   \\nThe analysis of regional sales highlights key insights into \\nmarket presence and potential for growth across different \\nstates. Maharashtra emerges as the state with the highest \\nnumber of sold products , indicating a strong market \\npresence. Other states like Madhya Pradesh, Uttar \\nPradesh, Rajasthan, and Punjab also show significant \\nsales, suggesting competition in these regions. On the \\nother hand, states like Arunachal Pradesh, Uttarakhand, \\nChandigarh, a nd Goa exhibit lower product sales, \\nindicating a need for  targeted strategies to improve market \\naccessibility and demand generation in these areas.  \\n• Solutions for Regional Sales:   \\nTo capitalize on the high demand and competitive \\nlandscape in states like Maharashtra, Madhya Pradesh, \\nUttar Pradesh, Rajasthan, and Punjab, businesses should \\nprioritize marketing and sales efforts in these regions. \\nExploring strategies to enhance brand visibility and \\ndistribu tion channels in states like the National Capital \\nTerritory of Delhi and Haryana can help capture a larger \\nmarket share. Additionally, conducting market research \\nand tailoring marketing campaigns to specific regions like \\nArunachal Pradesh, Uttarakhand, Cha ndigarh, and Goa \\ncan increase product awareness and drive sales in these \\nunder -performing areas.  \\n \\nInsights from Pack Size Analysis:   \\nThe analysis of pack sizes reveals consumer preferences \\nand market trends related to packaging. The top -selling \\npack sizes, such as \\'100ml\\', \\'150ml\\', and \\'250ml\\', should \\nbe prioritized in production and marketing campaigns to \\nmeet consumer demand. The tren d towards smaller pack \\nsizes suggests that consumers value convenience, \\nportability, and reduced waste. However, under -\\nrepresented pack sizes like \\'2g\\', \\'3ml\\', \\'6ml\\', \\'8ml\\', \\'12g\\', \\nand \\'13g\\' present opportunities for businesses to fill gaps \\nin the market a nd cater to evolving consumer preferences.  \\n• Solutions for Pack Size Optimization:   \\nTo optimize production and inventory for popular \\npack sizes, businesses should ensure an adequate supply \\nof the top -selling pack sizes to meet demand and minimize \\nstockouts. Developing innovative packaging solutions for \\nsmaller sizes can make them more app ealing to consumers \\nseeking convenience and portability. Introducing new \\npack sizes based on gaps in the market can help businesses \\naddress under -represented categories and align with \\nconsumer preferences for specific pack sizes.   \\n \\n4. CONCLUSION AND FUTURE SCOPE  \\nIn conclusion, the analysis of price, product categories, regional \\nsales, and pack sizes provides valuable insights into consumer \\nbehavior and market trends. By leveraging these insights, \\nbusinesses can develop targeted strategies to optimize pricing, \\nproduct offerings, regional sales, and packaging, ultimately \\nmaximizing revenue and profitability.  \\n \\n \\n \\nREFERENCES  \\n[1] Belal Abdullah Hezam Murshed,  Hasib Daowd Esmail Al -ariki, Suresha \\nMallappa . \" Semantic Analysis Techniques using Twitter Datasets on \\nBig Data: Comparative Analysis Study \" IEEE transactions on pattern \\nanalysis and machine intelligence 35, no. 4 (2012): 882 -897. \\n[2] Geetika Gautam , Divakar Yadav . \" Sentiment Analysis of Twitter Data \\nUsing Machine Learning Approaches and Semantic Analysis \" IEEE \\nAccess 9 (2020): 1420 -1427.  \\n[3] Hafiz Muhammad Ahmed , Mazhar Javed Awan , and Awais Yasin .\" \\nSentiment Analysis of Online Food Reviews using Big Data Analytics \" In \\n2017 13th International Conference on Semantics, Knowledge and Grids \\n(SKG), pp. 33 -37. IEEE, 2017.  \\n[4] Abdul Mohaimin Rahat , Abdul Kahir , Abu Kaisar Mohammad Masum  \" \\nComparison  of Naive Bayes and SVM Algorithm based on Sentiment \\nAnalysis Using Review Dataset \" In Proceedings of the Intelligent \\nVehicles\\' 95. Symposium, pp. 258 -263. IEEE, 1995.  \\n[5] Mariam Khader, Arafat Awajan , and Ghazi Al -Naymat . \" The Impact of \\nNatural Language Preprocessing on Big Data Sentiment Analysis \" IEEE \\nTransactions on Intelligent Transportation Systems 22, no. 6 (2021): 3234 -\\n3246.  \\n[6] Antony Rosewelt,  Arokia Renjit . \" Semantic analysis -based relevant data \\nretrieval model using feature selection, summarization and CNN \" In 2019 \\ninternational conference on communication and signal processing \\n(ICCSP), pp. 0157 -0160. IEEE, 2019.  \\n[7] Hassan Saif, Miriam Fernandez , Yulan He and Harith Alani . \" Evaluation \\nDatasets for Twitter Sentiment Analysis .\" In 2021 1st International \\nConference on Artificial Intelligence and Data Analytics (CAIDA), pp. \\n262-267. IEEE, 2021.  \\n[8] Hassan Saif, Yulan He  and Harith Alani . \" Semantic Sentiment Analysis \\nof Twitter .\" In 2021 5th international conference on intelligent computing \\nand control systems (ICICCS), pp. 954 -959. IEEE, 2021.  \\n[9] Ms.A.M.Abirami , Ms.V.Gayathri . \" A SURVEY ON SENTIMENT \\nANALYSIS METHODS AND APPROACH .\" In 2018 International \\nConference on Intelligent and Innovative Computing Applications \\n(ICONIC), pp. 1 -4. IEEE, 2018.  \\n[10] Alberto Rivas , Luc´ıa Mart´ ın, In´es Sitt´on1 Pablo Chamoso , Javier J. \\nMart´ın -Limorti , Javier Prieto , and Alfonso Gonz´alez -Briones.  \" \\nSemantic analysis system for Industry 4.0 .\" In 2017 International \\nConference on Machine Learning and Cybernetics (ICMLC), vol. 1, pp. \\n156-161. IEEE, 2017.  '"
      ]
     },
     "execution_count": 16,
     "metadata": {},
     "output_type": "execute_result"
    }
   ],
   "source": [
    "text = \"\"\n",
    "for page in pdf_file.pages:\n",
    "  text += page.extract_text()\n",
    "text"
   ]
  },
  {
   "cell_type": "code",
   "execution_count": null,
   "metadata": {},
   "outputs": [],
   "source": [
    "import requests\n",
    "requests.post(\"http://127.0.0.1:8000/transfer\"\n",
    "              data={\n",
    "                  \"too_prompt\": \"\",\n",
    "                  \"from_prompt\": \"\"\n",
    "              })"
   ]
  }
 ],
 "metadata": {
  "kernelspec": {
   "display_name": "Python 3",
   "language": "python",
   "name": "python3"
  },
  "language_info": {
   "codemirror_mode": {
    "name": "ipython",
    "version": 3
   },
   "file_extension": ".py",
   "mimetype": "text/x-python",
   "name": "python",
   "nbconvert_exporter": "python",
   "pygments_lexer": "ipython3",
   "version": "3.10.12"
  }
 },
 "nbformat": 4,
 "nbformat_minor": 2
}
