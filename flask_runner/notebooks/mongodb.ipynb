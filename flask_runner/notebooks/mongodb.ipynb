{
 "cells": [
  {
   "cell_type": "code",
   "execution_count": null,
   "metadata": {},
   "outputs": [],
   "source": [
    "import pandas as pd\n",
    "import numpy as np"
   ]
  },
  {
   "cell_type": "code",
   "execution_count": null,
   "metadata": {},
   "outputs": [],
   "source": [
    "df = pd.read_csv(\"../dataset/prompts.csv\")"
   ]
  },
  {
   "cell_type": "code",
   "execution_count": null,
   "metadata": {},
   "outputs": [],
   "source": [
    "df.head()"
   ]
  },
  {
   "cell_type": "code",
   "execution_count": null,
   "metadata": {},
   "outputs": [],
   "source": [
    "df.shape[0]"
   ]
  },
  {
   "cell_type": "markdown",
   "metadata": {},
   "source": [
    "prebuit-prompts //prebuit database collection"
   ]
  },
  {
   "cell_type": "code",
   "execution_count": 34,
   "metadata": {},
   "outputs": [],
   "source": [
    "from pymongo import MongoClient"
   ]
  },
  {
   "cell_type": "code",
   "execution_count": 35,
   "metadata": {},
   "outputs": [],
   "source": [
    "client = MongoClient(\"mongodb://127.0.0.1:27017/?directConnection=true&serverSelectionTimeoutMS=2000\")\n",
    "db = client['goodPrompt']"
   ]
  },
  {
   "cell_type": "code",
   "execution_count": null,
   "metadata": {},
   "outputs": [],
   "source": [
    "more_data = []\n",
    "\n",
    "for index,object in enumerate(np.array(df)):\n",
    "    act = object[0]\n",
    "    prompt = object[1]\n",
    "\n",
    "    more_data.append(\n",
    "        {\"index\" : index+1, \"user\" : act, \"prompt\" : prompt}\n",
    "    )\n"
   ]
  },
  {
   "cell_type": "code",
   "execution_count": null,
   "metadata": {},
   "outputs": [],
   "source": [
    "# err\n",
    "# random_input = [\n",
    "#     \"Write a dialogue between two characters who discover a hidden portal in their backyard.\",\n",
    "#         \"Describe a futuristic city where humans coexist with advanced artificial intelligence beings.\",\n",
    "#         \"Create a short story about a chef who discovers a magical ingredient with unusual properties.\",\n",
    "#         \"Imagine a world where everyone has a unique superpower, but the protagonist's power is considered useless until a critical moment.\",\n",
    "#         \"Write a poem inspired by the colors of a sunset, exploring the emotions they evoke.\",\n",
    "#         \"Develop a conversation between a time traveler from the past and a person from the present, discussing the changes in society.\",\n",
    "#         \"Describe a day in the life of a sentient robot navigating through human society, trying to fit in.\",\n",
    "#         \"Craft a suspenseful scene set in an abandoned amusement park at midnight.\",\n",
    "#         \"Create a monologue for a character reflecting on their journey to self-discovery.\",\n",
    "#         \"Write a letter from a fictional character to their future self, sharing hopes, fears, and aspirations.\",\n",
    "#         \"Explore a world where dreams come to life, and characters must navigate through dreamscapes to achieve their goals.\",\n",
    "#         \"Tell a story from the perspective of an inanimate object, giving it a voice and personality.\",\n",
    "#         \"Write a scene where characters discover an ancient book with the power to change reality, and they must decide how to use it.\",\n",
    "#         \"Imagine a society where emotions are bought and sold, and explore the consequences of a character losing their ability to feel.\",\n",
    "#         \"Craft a story set in a post-apocalyptic world where nature has reclaimed urban landscapes, and survivors must adapt to a new way of life.\"\n",
    "# ]\n",
    "# random = db['randomInput']\n",
    "# for index,i in enumerate(random_input):\n",
    "#     random.insert_one({'index' : index, 'input' : i})"
   ]
  },
  {
   "cell_type": "markdown",
   "metadata": {},
   "source": [
    "Append data into prebuiltPrompts collections"
   ]
  },
  {
   "cell_type": "code",
   "execution_count": null,
   "metadata": {},
   "outputs": [],
   "source": [
    "# err\n",
    "# prebuiltPrompts = db['prebuiltPrompts']\n",
    "# prebuiltPrompts.insert_many(more_data)"
   ]
  },
  {
   "cell_type": "code",
   "execution_count": null,
   "metadata": {},
   "outputs": [],
   "source": [
    "prebuiltPrompts = db['prebuiltPrompts']\n",
    "for data in prebuiltPrompts.find():\n",
    "    print(data)"
   ]
  },
  {
   "cell_type": "code",
   "execution_count": 56,
   "metadata": {},
   "outputs": [
    {
     "name": "stdout",
     "output_type": "stream",
     "text": [
      "[{'index': 0, 'input': 'Write a dialogue between two characters who discover a hidden portal in their backyard.'}, {'index': 1, 'input': 'Describe a futuristic city where humans coexist with advanced artificial intelligence beings.'}, {'index': 2, 'input': 'Create a short story about a chef who discovers a magical ingredient with unusual properties.'}, {'index': 3, 'input': \"Imagine a world where everyone has a unique superpower, but the protagonist's power is considered useless until a critical moment.\"}, {'index': 4, 'input': 'Write a poem inspired by the colors of a sunset, exploring the emotions they evoke.'}, {'index': 5, 'input': 'Develop a conversation between a time traveler from the past and a person from the present, discussing the changes in society.'}, {'index': 6, 'input': 'Describe a day in the life of a sentient robot navigating through human society, trying to fit in.'}, {'index': 7, 'input': 'Craft a suspenseful scene set in an abandoned amusement park at midnight.'}, {'index': 8, 'input': 'Create a monologue for a character reflecting on their journey to self-discovery.'}, {'index': 9, 'input': 'Write a letter from a fictional character to their future self, sharing hopes, fears, and aspirations.'}, {'index': 10, 'input': 'Explore a world where dreams come to life, and characters must navigate through dreamscapes to achieve their goals.'}, {'index': 11, 'input': 'Tell a story from the perspective of an inanimate object, giving it a voice and personality.'}, {'index': 12, 'input': 'Write a scene where characters discover an ancient book with the power to change reality, and they must decide how to use it.'}, {'index': 13, 'input': 'Imagine a society where emotions are bought and sold, and explore the consequences of a character losing their ability to feel.'}, {'index': 14, 'input': 'Craft a story set in a post-apocalyptic world where nature has reclaimed urban landscapes, and survivors must adapt to a new way of life.'}]\n"
     ]
    }
   ],
   "source": [
    "import requests\n",
    "res = requests.get(\"http://127.0.0.1:8000/mongo/collection/randomInput\")\n",
    "a = res.json()\n",
    "print(a['output'])"
   ]
  },
  {
   "cell_type": "code",
   "execution_count": null,
   "metadata": {},
   "outputs": [],
   "source": []
  }
 ],
 "metadata": {
  "kernelspec": {
   "display_name": "Python 3",
   "language": "python",
   "name": "python3"
  },
  "language_info": {
   "codemirror_mode": {
    "name": "ipython",
    "version": 3
   },
   "file_extension": ".py",
   "mimetype": "text/x-python",
   "name": "python",
   "nbconvert_exporter": "python",
   "pygments_lexer": "ipython3",
   "version": "3.10.12"
  }
 },
 "nbformat": 4,
 "nbformat_minor": 2
}
