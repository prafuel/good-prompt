{
 "cells": [
  {
   "cell_type": "code",
   "execution_count": null,
   "metadata": {},
   "outputs": [],
   "source": [
    "from dotenv import load_dotenv\n",
    "load_dotenv()\n",
    "import os\n",
    "HUGGINGFACE_API = os.environ['HUGGINGFACEHUB_API_TOKEN']\n",
    "HUGGINGFACE_API"
   ]
  },
  {
   "cell_type": "code",
   "execution_count": 1,
   "metadata": {},
   "outputs": [],
   "source": [
    "user_input = {\"pov\":\"developer\",\"type\":\"code\",\"understanding_lvl\":\"Easy to Understand\",\"llm\":\"mistral-7b\",\"creativity\":\"Low\", \"input\" : \"write a snake code in c\"}"
   ]
  },
  {
   "cell_type": "code",
   "execution_count": 2,
   "metadata": {},
   "outputs": [
    {
     "data": {
      "text/plain": [
       "{'pov': 'developer',\n",
       " 'type': 'code',\n",
       " 'understanding_lvl': 'Easy to Understand',\n",
       " 'llm': 'mistral-7b',\n",
       " 'creativity': 'Low',\n",
       " 'input': 'write a snake code in c'}"
      ]
     },
     "execution_count": 2,
     "metadata": {},
     "output_type": "execute_result"
    }
   ],
   "source": [
    "user_input"
   ]
  },
  {
   "cell_type": "code",
   "execution_count": 3,
   "metadata": {},
   "outputs": [],
   "source": [
    "from langchain.prompts import PromptTemplate\n",
    "template = '''\n",
    "    i want you to act like {pov} who is professional at its work, your task is to make it {understanding_lvl} \n",
    "    and output must be in format of {type}, for output only your creativity level set to be {creativity} , \n",
    "    dont print anything except output in provided format, query is {input}\n",
    "'''\n",
    "\n",
    "prompt = PromptTemplate(template=template, input_variables=['pov','understanding_lvl', 'type', 'creativity'])\n",
    "input = prompt.format(pov=user_input['pov'], understanding_lvl=user_input['understanding_lvl'], type=user_input['type'], creativity=user_input['creativity'], input=user_input['input'])"
   ]
  },
  {
   "cell_type": "code",
   "execution_count": null,
   "metadata": {},
   "outputs": [],
   "source": []
  },
  {
   "cell_type": "code",
   "execution_count": null,
   "metadata": {},
   "outputs": [],
   "source": [
    "list(user_input.keys())"
   ]
  },
  {
   "cell_type": "code",
   "execution_count": null,
   "metadata": {},
   "outputs": [],
   "source": [
    "from langchain.llms import CTransformers"
   ]
  },
  {
   "cell_type": "code",
   "execution_count": null,
   "metadata": {},
   "outputs": [],
   "source": [
    "from transformers import AutoModelForCausalLM"
   ]
  },
  {
   "cell_type": "code",
   "execution_count": null,
   "metadata": {},
   "outputs": [],
   "source": [
    "llm1 = CTransformers(model=\"./llama-2-7b.ggmlv3.q2_K.bin\",\n",
    "                    config={\"max_new_tokens\" : 256,\n",
    "                            \"temperature\":0.01})"
   ]
  },
  {
   "cell_type": "code",
   "execution_count": null,
   "metadata": {},
   "outputs": [],
   "source": []
  },
  {
   "cell_type": "code",
   "execution_count": null,
   "metadata": {},
   "outputs": [],
   "source": [
    "from transformers import pipeline\n",
    "clf = pipeline(\"sentiment-analysis\")"
   ]
  },
  {
   "cell_type": "code",
   "execution_count": null,
   "metadata": {},
   "outputs": [],
   "source": [
    "def classify(text : str):\n",
    "    return clf(text)[0]['label']"
   ]
  },
  {
   "cell_type": "code",
   "execution_count": null,
   "metadata": {},
   "outputs": [],
   "source": []
  },
  {
   "cell_type": "code",
   "execution_count": 5,
   "metadata": {},
   "outputs": [
    {
     "name": "stdout",
     "output_type": "stream",
     "text": [
      "\n",
      "    i want you to act like developer who is professional at its work, your task is to make it Easy to Understand \n",
      "    and output must be in format of code, for output only your creativity level set to be Low , \n",
      "    dont print anything except output in provided format, query is write a snake code in c\n",
      "\n"
     ]
    }
   ],
   "source": [
    "print(input)"
   ]
  },
  {
   "cell_type": "code",
   "execution_count": null,
   "metadata": {},
   "outputs": [],
   "source": []
  }
 ],
 "metadata": {
  "kernelspec": {
   "display_name": "Python 3",
   "language": "python",
   "name": "python3"
  },
  "language_info": {
   "codemirror_mode": {
    "name": "ipython",
    "version": 3
   },
   "file_extension": ".py",
   "mimetype": "text/x-python",
   "name": "python",
   "nbconvert_exporter": "python",
   "pygments_lexer": "ipython3",
   "version": "3.10.12"
  }
 },
 "nbformat": 4,
 "nbformat_minor": 2
}
